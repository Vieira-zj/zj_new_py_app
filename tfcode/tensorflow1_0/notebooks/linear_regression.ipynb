{
 "cells": [
  {
   "cell_type": "code",
   "execution_count": 2,
   "metadata": {},
   "outputs": [
    {
     "name": "stdout",
     "output_type": "stream",
     "text": [
      "WARNING:tensorflow:From /usr/local/lib/python3.5/dist-packages/tensorflow/python/framework/op_def_library.py:263: colocate_with (from tensorflow.python.framework.ops) is deprecated and will be removed in a future version.\n",
      "Instructions for updating:\n",
      "Colocations handled automatically by placer.\n",
      "WARNING:tensorflow:From /usr/local/lib/python3.5/dist-packages/tensorflow/python/ops/math_ops.py:3066: to_int32 (from tensorflow.python.ops.math_ops) is deprecated and will be removed in a future version.\n",
      "Instructions for updating:\n",
      "Use tf.cast instead.\n"
     ]
    }
   ],
   "source": [
    "import tensorflow as tf\n",
    "import numpy\n",
    "import matplotlib.pyplot as plt\n",
    "\n",
    "rng = numpy.random\n",
    "\n",
    "\n",
    "# Training Data\n",
    "train_X = numpy.asarray([3.3, 4.4, 5.5, 6.71, 6.93, 4.168, 9.779, 6.182, 7.59, 2.167,\n",
    "                         7.042, 10.791, 5.313, 7.997, 5.654, 9.27, 3.1])\n",
    "train_Y = numpy.asarray([1.7, 2.76, 2.09, 3.19, 1.694, 1.573, 3.366, 2.596, 2.53, 1.221,\n",
    "                         2.827, 3.465, 1.65, 2.904, 2.42, 2.94, 1.3])\n",
    "n_samples = train_X.shape[0]\n",
    "\n",
    "# tf Graph Input\n",
    "X = tf.placeholder('float')\n",
    "Y = tf.placeholder('float')\n",
    "\n",
    "# Set model weights\n",
    "W = tf.Variable(rng.randn(), name='weight')\n",
    "b = tf.Variable(rng.randn(), name='bias')\n",
    "\n",
    "# Construct a linear model\n",
    "pred = tf.add(tf.multiply(X, W), b)\n",
    "\n",
    "# Mean squared error\n",
    "cost = tf.reduce_sum(tf.pow(pred-Y, 2)) / (2*n_samples)\n",
    "# Gradient descent\n",
    "# Note, minimize() knows to modify W and b because Variable objects are trainable=True by default\n",
    "learning_rate = 0.01\n",
    "optimizer = tf.train.GradientDescentOptimizer(learning_rate).minimize(cost)\n",
    "\n",
    "# Initialize the variables (i.e. assign their default value)\n",
    "init = tf.global_variables_initializer()"
   ]
  },
  {
   "cell_type": "code",
   "execution_count": 3,
   "metadata": {},
   "outputs": [
    {
     "name": "stdout",
     "output_type": "stream",
     "text": [
      "Epoch: 0050 cost= 0.543945372 W= 0.63144296 b= -1.9455305\n",
      "Epoch: 0100 cost= 0.490021378 W= 0.60873264 b= -1.7821542\n",
      "Epoch: 0150 cost= 0.442322165 W= 0.58737266 b= -1.6284926\n",
      "Epoch: 0200 cost= 0.400130242 W= 0.56728333 b= -1.4839712\n",
      "Epoch: 0250 cost= 0.362810016 W= 0.5483891 b= -1.3480475\n",
      "Epoch: 0300 cost= 0.329797566 W= 0.53061813 b= -1.2202041\n",
      "Epoch: 0350 cost= 0.300597608 W= 0.5139046 b= -1.0999676\n",
      "Epoch: 0400 cost= 0.274768502 W= 0.49818474 b= -0.9868801\n",
      "Epoch: 0450 cost= 0.251921892 W= 0.48339972 b= -0.88051885\n",
      "Epoch: 0500 cost= 0.231713101 W= 0.46949416 b= -0.78048307\n",
      "Epoch: 0550 cost= 0.213838220 W= 0.45641592 b= -0.6863987\n",
      "Epoch: 0600 cost= 0.198026910 W= 0.44411504 b= -0.59790725\n",
      "Epoch: 0650 cost= 0.184041634 W= 0.4325459 b= -0.51467985\n",
      "Epoch: 0700 cost= 0.171671286 W= 0.4216649 b= -0.43640196\n",
      "Epoch: 0750 cost= 0.160729617 W= 0.41143104 b= -0.36278012\n",
      "Epoch: 0800 cost= 0.151051611 W= 0.40180573 b= -0.29353657\n",
      "Epoch: 0850 cost= 0.142491356 W= 0.39275295 b= -0.22841159\n",
      "Epoch: 0900 cost= 0.134919852 W= 0.38423857 b= -0.16716002\n",
      "Epoch: 0950 cost= 0.128222913 W= 0.3762306 b= -0.109551236\n",
      "Epoch: 1000 cost= 0.122299530 W= 0.36869898 b= -0.055368725\n",
      "Optimization Finished\n",
      "Training cost= 0.12229953 W= 0.36869898 b= -0.055368725 \n",
      "\n"
     ]
    },
    {
     "data": {
      "image/png": "[encoded data removed]",
      "text/plain": [
       "<Figure size 432x288 with 1 Axes>"
      ]
     },
     "metadata": {
      "needs_background": "light"
     },
     "output_type": "display_data"
    }
   ],
   "source": [
    "sess = tf.Session()\n",
    "# Run the initializer\n",
    "sess.run(init)\n",
    "\n",
    "# Fit all training data\n",
    "training_epochs = 1000\n",
    "display_step = 50\n",
    "for epoch in range(training_epochs):\n",
    "    for (x, y) in zip(train_X, train_Y):\n",
    "        sess.run(optimizer, feed_dict={X: x, Y: y})\n",
    "\n",
    "    # Display logs per epoch step\n",
    "    if (epoch+1) % display_step == 0:\n",
    "        c = sess.run(cost, feed_dict={X: train_X, Y: train_Y})\n",
    "        print('Epoch:', '%04d' % (epoch+1), 'cost=', '{:.9f}'.format(c),\n",
    "              'W=', sess.run(W), 'b=', sess.run(b))\n",
    "# end for\n",
    "\n",
    "print('Optimization Finished')\n",
    "training_cost = sess.run(cost, feed_dict={X: train_X, Y: train_Y})\n",
    "print('Training cost=', training_cost, 'W=', sess.run(W), 'b=', sess.run(b), '\\n')\n",
    "\n",
    "# Graphic display\n",
    "plt.plot(train_X, train_Y, 'ro', label='Original data')\n",
    "plt.plot(train_X, sess.run(W) * train_X + sess.run(b), label='Fitted line')\n",
    "plt.legend()\n",
    "plt.show()"
   ]
  },
  {
   "cell_type": "code",
   "execution_count": 4,
   "metadata": {},
   "outputs": [
    {
     "name": "stdout",
     "output_type": "stream",
     "text": [
      "Testing... (Mean square loss Comparison)\n",
      "Testing cost= 0.105945975\n",
      "Absolute mean square loss difference: 0.016353555\n"
     ]
    },
    {
     "data": {
      "image/png": "[encoded data removed]",
      "text/plain": [
       "<Figure size 432x288 with 1 Axes>"
      ]
     },
     "metadata": {
      "needs_background": "light"
     },
     "output_type": "display_data"
    }
   ],
   "source": [
    "# Testing example, as requested (Issue #2)\n",
    "test_X = numpy.asarray([6.83, 4.668, 8.9, 7.91, 5.7, 8.7, 3.1, 2.1])\n",
    "test_Y = numpy.asarray([1.84, 2.273, 3.2, 2.831, 2.92, 3.24, 1.35, 1.03])\n",
    "\n",
    "print('Testing... (Mean square loss Comparison)')\n",
    "# same function as cost above\n",
    "cost = tf.reduce_sum(tf.pow(pred-Y, 2)) / (2*test_X.shape[0])\n",
    "testing_cost = sess.run(cost, feed_dict={X: test_X, Y: test_Y})\n",
    "print('Testing cost=', testing_cost)\n",
    "print('Absolute mean square loss difference:', abs(training_cost - testing_cost))\n",
    "\n",
    "plt.plot(test_X, test_Y, 'bo', label='Testing data')\n",
    "plt.plot(test_X, sess.run(W) * test_X + sess.run(b), label='Fitted line')\n",
    "plt.legend()\n",
    "plt.show()\n"
   ]
  },
  {
   "cell_type": "code",
   "execution_count": null,
   "metadata": {},
   "outputs": [],
   "source": []
  }
 ],
 "metadata": {
  "kernelspec": {
   "display_name": "Python 3",
   "language": "python",
   "name": "python3"
  },
  "language_info": {
   "codemirror_mode": {
    "name": "ipython",
    "version": 3
   },
   "file_extension": ".py",
   "mimetype": "text/x-python",
   "name": "python",
   "nbconvert_exporter": "python",
   "pygments_lexer": "ipython3",
   "version": "3.5.2"
  }
 },
 "nbformat": 4,
 "nbformat_minor": 2
}
